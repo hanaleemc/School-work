{
 "cells": [
  {
   "cell_type": "code",
   "execution_count": 1,
   "metadata": {},
   "outputs": [],
   "source": [
    "from sklearn import decomposition\n",
    "from sklearn.discriminant_analysis import LinearDiscriminantAnalysis as LDA\n",
    "from PIL import Image\n",
    "import numpy as np\n",
    "from glob import glob\n",
    "from sklearn.model_selection import train_test_split\n",
    "import matplotlib.pyplot as plt\n",
    "from mpl_toolkits.axes_grid1 import ImageGrid\n",
    "from sklearn.metrics import classification_report\n"
   ]
  },
  {
   "cell_type": "code",
   "execution_count": 2,
   "metadata": {},
   "outputs": [],
   "source": [
    "N = 150\n",
    "w,h = 200, 200\n",
    "size = (w, h, 3)\n",
    "female = glob('females/*')\n",
    "male = glob('males/*')\n",
    "\n",
    "\n",
    "female_list = np.random.choice(female, N, replace=False)\n",
    "male_list = np.random.choice(male, N, replace=False)"
   ]
  },
  {
   "cell_type": "code",
   "execution_count": 3,
   "metadata": {},
   "outputs": [],
   "source": [
    "def pic_preprocess (image_file, width, height):\n",
    "    \n",
    "    img = Image.open(image_file)\n",
    "    post = img.resize((width, height), Image.NEAREST)\n",
    "    \n",
    "    pix = np.array(post)\n",
    "    return pix.flatten()\n",
    "#     return post.getcolors(height*width)\n",
    "\n",
    "\n"
   ]
  },
  {
   "cell_type": "code",
   "execution_count": 4,
   "metadata": {},
   "outputs": [],
   "source": [
    "raw_data = [(pic_preprocess(f, w, h), 0) for f in female_list] + [(pic_preprocess(m, w, h),1) for m in male_list]\n",
    "\n",
    "\n",
    "labels = np.array([datapoint[1] for datapoint in raw_data])\n",
    "data = np.array([datapoint[0] for datapoint in raw_data])\n",
    "norm_data = np.array([datapoint[0] - np.mean(datapoint[0]) for datapoint in raw_data])"
   ]
  },
  {
   "cell_type": "code",
   "execution_count": 6,
   "metadata": {},
   "outputs": [
    {
     "name": "stdout",
     "output_type": "stream",
     "text": [
      "(300, 120000)\n"
     ]
    }
   ],
   "source": [
    "print (np.shape(data))\n",
    "\n"
   ]
  },
  {
   "cell_type": "code",
   "execution_count": 7,
   "metadata": {},
   "outputs": [],
   "source": [
    "com = .70\n",
    "pca = decomposition.PCA(n_components=com, whiten=True, copy=True)\n",
    "\n",
    "proj = pca.fit_transform(norm_data)\n"
   ]
  },
  {
   "cell_type": "code",
   "execution_count": 8,
   "metadata": {},
   "outputs": [
    {
     "data": {
      "image/png": "[encoded data removed]",
      "text/plain": [
       "<Figure size 432x288 with 1 Axes>"
      ]
     },
     "metadata": {},
     "output_type": "display_data"
    }
   ],
   "source": [
    "plt.figure()\n",
    "plt.title('explained variance')\n",
    "plt.xlabel('Eigenvaleue number')\n",
    "plt.ylabel('Eigenvaleues')\n",
    "plt.plot(np.arange(0, len(pca.explained_variance_), 1), pca.explained_variance_ratio_)\n",
    "plt.show()"
   ]
  },
  {
   "cell_type": "code",
   "execution_count": 9,
   "metadata": {},
   "outputs": [],
   "source": [
    "approximation = pca.inverse_transform(proj)\n"
   ]
  },
  {
   "cell_type": "code",
   "execution_count": 34,
   "metadata": {},
   "outputs": [
    {
     "data": {
      "text/plain": [
       "(300, 120000)"
      ]
     },
     "execution_count": 34,
     "metadata": {},
     "output_type": "execute_result"
    }
   ],
   "source": [
    "np.shape(approximation)"
   ]
  },
  {
   "cell_type": "code",
   "execution_count": 35,
   "metadata": {},
   "outputs": [
    {
     "data": {
      "text/plain": [
       "(300, 43)"
      ]
     },
     "execution_count": 35,
     "metadata": {},
     "output_type": "execute_result"
    }
   ],
   "source": [
    "shape_proj = np.shape(proj)\n",
    "shape_proj"
   ]
  },
  {
   "cell_type": "code",
   "execution_count": 36,
   "metadata": {},
   "outputs": [],
   "source": [
    "def image_from_component_values(component):\n",
    "    \"\"\"takes one of the principal components and turns it into an image\"\"\"\n",
    "    hi = max(component)\n",
    "    lo = min(component)\n",
    "    n = int(len(component) / 3)\n",
    "    divisor = hi - lo\n",
    "    if divisor == 0:\n",
    "        divisor = 1\n",
    "    \n",
    "    def rescale(x):\n",
    "        return int(255 * (x - lo) / divisor)\n",
    "    \n",
    "    d = [(rescale(component[3 * i]),\n",
    "          rescale(component[3 * i + 1]),\n",
    "          rescale(component[3 * i + 2])) for i in range(n)]\n",
    "    \n",
    "    im = Image.new('RGB',(w, h))\n",
    "    im.putdata(d)\n",
    "    return im\n",
    "\n"
   ]
  },
  {
   "cell_type": "code",
   "execution_count": 1,
   "metadata": {},
   "outputs": [
    {
     "ename": "NameError",
     "evalue": "name 'plt' is not defined",
     "output_type": "error",
     "traceback": [
      "\u001b[0;31m---------------------------------------------------------------------------\u001b[0m",
      "\u001b[0;31mNameError\u001b[0m                                 Traceback (most recent call last)",
      "\u001b[0;32m<ipython-input-1-5973bbdaa4d0>\u001b[0m in \u001b[0;36m<module>\u001b[0;34m()\u001b[0m\n\u001b[0;32m----> 1\u001b[0;31m \u001b[0mplt\u001b[0m\u001b[0;34m.\u001b[0m\u001b[0mfigure\u001b[0m\u001b[0;34m(\u001b[0m\u001b[0mfigsize\u001b[0m\u001b[0;34m=\u001b[0m\u001b[0;34m(\u001b[0m\u001b[0;36m8\u001b[0m\u001b[0;34m,\u001b[0m\u001b[0;36m4\u001b[0m\u001b[0;34m)\u001b[0m\u001b[0;34m)\u001b[0m\u001b[0;34m\u001b[0m\u001b[0m\n\u001b[0m\u001b[1;32m      2\u001b[0m \u001b[0mp_index\u001b[0m \u001b[0;34m=\u001b[0m \u001b[0;36m3\u001b[0m\u001b[0;34m\u001b[0m\u001b[0m\n\u001b[1;32m      3\u001b[0m \u001b[0;34m\u001b[0m\u001b[0m\n\u001b[1;32m      4\u001b[0m \u001b[0mdata\u001b[0m\u001b[0;34m[\u001b[0m\u001b[0;36m3\u001b[0m\u001b[0;34m]\u001b[0m\u001b[0;34m\u001b[0m\u001b[0m\n\u001b[1;32m      5\u001b[0m \u001b[0;31m# Original Image\u001b[0m\u001b[0;34m\u001b[0m\u001b[0;34m\u001b[0m\u001b[0m\n",
      "\u001b[0;31mNameError\u001b[0m: name 'plt' is not defined"
     ]
    }
   ],
   "source": [
    "plt.figure(figsize=(8,4))\n",
    "p_index = 3\n",
    "\n",
    "data[3]\n",
    "# Original Image\n",
    "plt.subplot(1, 3, 1)\n",
    "plt.imshow(data[p_index].reshape(size),\n",
    "           cmap=plt.cm.gray,interpolation='nearest',\n",
    "              clim=(0, 255))\n",
    "\n",
    "plt.xlabel('{} components'.format(np.shape(data)[1]))\n",
    "plt.title('Original Image')\n",
    "\n",
    "#norm\n",
    "plt.subplot(1, 3, 2)\n",
    "plt.imshow(norm_data[p_index].reshape(size),\n",
    "           cmap=plt.cm.gray,interpolation='nearest',\n",
    "              clim=(0, 255))\n",
    "\n",
    "plt.xlabel('{} components'.format(np.shape(norm_data)[1]))\n",
    "plt.title('normalized Image')\n",
    "\n",
    "# pca\n",
    "plt.subplot(1, 3, 3)\n",
    "r = image_from_component_values(approximation[p_index,:])\n",
    "plt.imshow(r)\n",
    "\n",
    "plt.xlabel('{} components'.format(shape_proj[1]))\n",
    "plt.title('{}% of Explained Variance'.format(com*100))\n",
    "\n",
    "plt.show()"
   ]
  },
  {
   "cell_type": "code",
   "execution_count": null,
   "metadata": {
    "collapsed": true
   },
   "outputs": [],
   "source": []
  },
  {
   "cell_type": "code",
   "execution_count": 40,
   "metadata": {
    "collapsed": true
   },
   "outputs": [],
   "source": [
    "(x_train, x_test, y_train, y_test) = train_test_split(norm_data, labels, test_size=0.1, random_state=5 )\n"
   ]
  },
  {
   "cell_type": "code",
   "execution_count": null,
   "metadata": {
    "collapsed": true
   },
   "outputs": [],
   "source": []
  },
  {
   "cell_type": "code",
   "execution_count": 62,
   "metadata": {},
   "outputs": [],
   "source": [
    "lda = LDA(n_components = 1)\n",
    "proj = lda.fit(x_train, y_train)\n"
   ]
  },
  {
   "cell_type": "code",
   "execution_count": 63,
   "metadata": {},
   "outputs": [],
   "source": [
    "y_pred = lda.predict(x_test)"
   ]
  },
  {
   "cell_type": "code",
   "execution_count": 64,
   "metadata": {},
   "outputs": [
    {
     "name": "stdout",
     "output_type": "stream",
     "text": [
      "             precision    recall  f1-score   support\n",
      "\n",
      "          0       0.57      0.57      0.57        14\n",
      "          1       0.62      0.62      0.62        16\n",
      "\n",
      "avg / total       0.60      0.60      0.60        30\n",
      "\n"
     ]
    }
   ],
   "source": [
    "print classification_report(y_test, y_pred)\n"
   ]
  },
  {
   "cell_type": "code",
   "execution_count": null,
   "metadata": {
    "collapsed": true
   },
   "outputs": [],
   "source": []
  }
 ],
 "metadata": {
  "anaconda-cloud": {},
  "kernelspec": {
   "display_name": "Python 3",
   "language": "python",
   "name": "python3"
  },
  "language_info": {
   "codemirror_mode": {
    "name": "ipython",
    "version": 3
   },
   "file_extension": ".py",
   "mimetype": "text/x-python",
   "name": "python",
   "nbconvert_exporter": "python",
   "pygments_lexer": "ipython3",
   "version": "3.6.4"
  }
 },
 "nbformat": 4,
 "nbformat_minor": 1
}
