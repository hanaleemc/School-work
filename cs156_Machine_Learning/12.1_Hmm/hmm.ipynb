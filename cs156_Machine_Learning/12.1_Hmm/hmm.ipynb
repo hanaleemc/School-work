{
 "cells": [
  {
   "cell_type": "markdown",
   "metadata": {},
   "source": [
    "Speaker identification\n",
    "\n",
    "\n",
    "There are three people in a room. Each says about 10 phonemes, before being randomly interrupted by someone else. When they speak they all sound the same, however each person tends to use different phonemes in their speech. Specifically we can model the following transition probabilities that someone will interrupt the current speaker: P(speaker i at time t+1 | speaker j at time t). We can also model the probability over phonemes given a particular speaker: P(phoneme | speaker i). The phonemes are identical to the ones introduced in problem 1 (but the transition matrices are obviously different, since they take a different form altogether).\n",
    "\n",
    "Write down the update equations that you will need to train a hidden Markov model. Using the information given above, write down a sensible initialization for the transition matrix.\n",
    "Write your own python code to train a hidden Markov model on the data. You may look at code online, but will need to reference any code that helps you with your implementation.\n",
    "\n",
    "\n",
    "From matplotlb use a stackplot (https://matplotlib.org/api/_as_gen/matplotlib.axes.Axes.stackplot.html) to show the probability of a particular person speaking.\n",
    "Audio dataset: https://course-resources.minerva.kgi.edu/uploaded_files/mke/VW8Rjr/speaker.wav.zip\n",
    "\n",
    "Symbol dataset: https://course-resources.minerva.kgi.edu/uploaded_files/mke/n705lY/speaker"
   ]
  },
  {
   "cell_type": "code",
   "execution_count": 109,
   "metadata": {},
   "outputs": [],
   "source": [
    "import numpy as np\n",
    "from decimal import *\n",
    "getcontext().prec = 1000\n",
    "import sys\n",
    "sys.setrecursionlimit(5000)"
   ]
  },
  {
   "cell_type": "code",
   "execution_count": 33,
   "metadata": {},
   "outputs": [],
   "source": [
    "with open('data.txt') as f:\n",
    "        sequence = f.read()\n",
    "        "
   ]
  },
  {
   "cell_type": "code",
   "execution_count": 94,
   "metadata": {},
   "outputs": [],
   "source": [
    "CHARS = ['A', 'o', 'e', 't', 'p', 'g', 'k']\n",
    "\n",
    "C = len(CHARS)\n",
    "P = 3\n",
    "S = len(sequence)\n",
    "\n",
    "# Prior [1,3]\n",
    "prior = np.ones((P,)) / P\n",
    "\n",
    "# Transition matrix [char, char]\n",
    "transition_matrix = np.ones((P,P))\n",
    "\n",
    "# Emission matrix [ppl, char]\n",
    "emission_matrix = np.ones((C,P))\n",
    "\n",
    "# Hidden probability [ppl, seq]\n",
    "state_hidden = np.ones((P, S))\n",
    "\n",
    "# transition hidden probability []\n",
    "# Z = p(h_t=i, h_t+1=i' |v_1:t) ~ a(h_t)p(v_t+1|h_t+1)p(h_t+1|h_t)b(h_t+1)\n",
    "trans_hidden = np.ones((P, P, S))\n"
   ]
  },
  {
   "cell_type": "code",
   "execution_count": 100,
   "metadata": {},
   "outputs": [],
   "source": [
    "def memoize(func):\n",
    "    cache = dict()\n",
    "    def memoized_func(*args):\n",
    "        if args in cache:\n",
    "            return cache[args]\n",
    "        result = func(*args)\n",
    "        cache[args] = result\n",
    "        return result\n",
    "\n",
    "    return memoized_func"
   ]
  },
  {
   "cell_type": "code",
   "execution_count": 107,
   "metadata": {},
   "outputs": [
    {
     "data": {
      "text/plain": [
       "Decimal('26.999999999999998501198916756038670428097248077392578125')"
      ]
     },
     "execution_count": 107,
     "metadata": {},
     "output_type": "execute_result"
    }
   ],
   "source": [
    "def alpha(hidden_state, t):\n",
    "    \n",
    "    \n",
    "    visib_state = sequence[t]\n",
    "    curent_v_state = CHARS.index(visib_state)\n",
    "\n",
    "    if t == 0:\n",
    "        #a(h_1) = p(v_1|h_1)p(h_1)\n",
    "        first_ = prior[hidden_state] * emission_matrix[curent_v_state,hidden_state]\n",
    "        \n",
    "        return first_\n",
    "    \n",
    "    \n",
    "    \n",
    "    corrector = Decimal(emission_matrix[curent_v_state, hidden_state])\n",
    "    sum_predictor = Decimal(0)\n",
    "    \n",
    "    for prev_hidden_state in range(P):\n",
    "    \n",
    "        predictor = Decimal(transition_matrix[hidden_state, prev_hidden_state])\n",
    "        \n",
    "        predictor *= Decimal(alpha(prev_hidden_state, t-1))\n",
    "        \n",
    "        sum_predictor += predictor\n",
    "    \n",
    "    return corrector*sum_predictor\n",
    "    \n",
    "alpha = memoize(alpha)\n",
    "\n",
    "alpha(2,4)"
   ]
  },
  {
   "cell_type": "code",
   "execution_count": 110,
   "metadata": {},
   "outputs": [
    {
     "data": {
      "text/plain": [
       "Decimal('5440620656299615789672655389926520024549061863177564475987326618217401635171625100990857258644477621250657521386306923275518331613582793875989064712995694131800906276536299604436274791065698935285557202129994312926456575372934545012599037749193772323006198263890865614837642199164769118590392461954387391855268594912669062922750684766699127147812989317221806327610589473958215472998746982572094405712382964716418400982979846972635331887848419061772075580790835813863797758107')"
      ]
     },
     "execution_count": 110,
     "metadata": {},
     "output_type": "execute_result"
    }
   ],
   "source": [
    "# b(h_t) = p(v_t+1:t|h_t)\n",
    "\n",
    "def beta (hidden_state, t):\n",
    "    visib_state = sequence[t]\n",
    "    curent_v_state = CHARS.index(visib_state)\n",
    "    \n",
    "    if t >= S-1:\n",
    "        return 1\n",
    "    \n",
    "    sum_beta = Decimal(0)\n",
    "    for next_hidden_state in range(P):\n",
    "        \n",
    "        next_visib_state = sequence[t+1]\n",
    "        next_v_state = CHARS.index(next_visib_state)\n",
    "    \n",
    "        tr_p = Decimal(transition_matrix[hidden_state, next_hidden_state])\n",
    "        \n",
    "        em_p = Decimal(emission_matrix[next_v_state, next_hidden_state])\n",
    "        \n",
    "        sum_beta += tr_p*em_p*beta(next_hidden_state, t+1)\n",
    "        \n",
    "    return sum_beta\n",
    "        \n",
    "beta = memoize(beta)\n",
    "\n",
    "beta(2,4)"
   ]
  },
  {
   "cell_type": "code",
   "execution_count": 112,
   "metadata": {},
   "outputs": [
    {
     "data": {
      "text/plain": [
       "Decimal('0.3333333333333333333333333333333333333333333333333333333333333333333333333333333333333333333333333333333333333333333333333333333333333333333333333333333333333333333333333333333333333333333333333333333333333333333333333333333333333333333333333333333333333333333333333333333333333333333333333333333333333333333333333333333333333333333333333333333333333333333333333333333333333333333333333333333333333333333333333333333333333333333333333333333333333333333333333333333333333333333333333333333333333333333333333333333333333333333333333333333333333333333333333333333333333333333333333333333333333333333333333333333333333333333333333333333333333333333333333333333333333333333333333333333333333333333333333333333333333333333333333333333333333333333333333333333333333333333333333333333333333333333333333333333333333333333333333333333333333333333333333333333333333333333333333333333333333333333333333333333333333333333333333333333333333333333333333333333333333333333333333333333333333333333333333333333333333333')"
      ]
     },
     "execution_count": 112,
     "metadata": {},
     "output_type": "execute_result"
    }
   ],
   "source": [
    "def gama(hidden_state, t):\n",
    "    top = alpha(hidden_state, t) * beta(hidden_state, t)\n",
    "    \n",
    "    bot = 0\n",
    "    for hidden in range(P):\n",
    "        bot += alpha(hidden, t) * beta(hidden, t)\n",
    "        \n",
    "    return top/bot\n"
   ]
  },
  {
   "cell_type": "code",
   "execution_count": 117,
   "metadata": {},
   "outputs": [
    {
     "data": {
      "text/plain": [
       "Decimal('0.1111111111111111111111111111111111111111111111111111111111111111111111111111111111111111111111111111111111111111111111111111111111111111111111111111111111111111111111111111111111111111111111111111111111111111111111111111111111111111111111111111111111111111111111111111111111111111111111111111111111111111111111111111111111111111111111111111111111111111111111111111111111111111111111111111111111111111111111111111111111111111111111111111111111111111111111111111111111111111111111111111111111111111111111111111111111111111111111111111111111111111111111111111111111111111111111111111111111111111111111111111111111111111111111111111111111111111111111111111111111111111111111111111111111111111111111111111111111111111111111111111111111111111111111111111111111111111111111111111111111111111111111111111111111111111111111111111111111111111111111111111111111111111111111111111111111111111111111111111111111111111111111111111111111111111111111111111111111111111111111111111111111111111111111111111111111111111')"
      ]
     },
     "execution_count": 117,
     "metadata": {},
     "output_type": "execute_result"
    }
   ],
   "source": [
    "# Z = p(h_t=i, h_t+1=i' |v_1:t) ~ a(h_t)p(v_t+1|h_t+1)p(h_t+1|h_t)b(h_t+1)\n",
    "\n",
    "def Z(hidden_state, hidden_next_state, t):\n",
    "    \n",
    "    a= alpha(hidden_state, t) \n",
    "    b= beta(hidden_next_state, t+1)\n",
    "\n",
    "    next_v_state = CHARS.index(sequence[t])\n",
    "        \n",
    "    em_p = Decimal(emission_matrix[next_v_state, hidden_next_state])\n",
    "    \n",
    "    tr_p = Decimal(transition_matrix[hidden_state, hidden_next_state])\n",
    "    \n",
    "    top = a*b*em_p*tr_p \n",
    "    \n",
    "    bot=0\n",
    "    \n",
    "    for i in range(P):\n",
    "        for j in range(P):\n",
    "            \n",
    "            a= alpha(i, t) \n",
    "            b= beta(j, t+1)\n",
    "\n",
    "            next_v_state = CHARS.index(sequence[t+1])\n",
    "\n",
    "            em_p = Decimal(emission_matrix[next_v_state, j])\n",
    "\n",
    "            tr_p = Decimal(transition_matrix[i, j])\n",
    "            \n",
    "            bot += a*b*em_p*tr_p\n",
    "    \n",
    "    return top/bot\n",
    " \n",
    "Z(2,2,1)"
   ]
  },
  {
   "cell_type": "code",
   "execution_count": null,
   "metadata": {},
   "outputs": [],
   "source": [
    "# Probability of the first state\n",
    "# a \n",
    "\n",
    "for h_state in range(P):\n",
    "    prior[h_state] = gama(h_state, 0)\n",
    "    \n",
    "# update transition matrix\n",
    "# A\n",
    "\n",
    "sum_over_time = lambda state, next_state : sum([Z(state, next_state, t) for t in range(S-1)])\n",
    "\n",
    "for h_state in range(P):\n",
    "    sum_of_all_states = []\n",
    "    \n",
    "    for next_h_state in range(P):\n",
    "        sum_of_all_states.append(sum_over_time(h_state, next_h_state))\n",
    "    \n",
    "    for next_h_state in range(P):   \n",
    "        transition_matrix[h_state, next_h_state] = sum_of_all_states[next_h_state]/np.sum(sum_of_all_states)\n",
    "    \n",
    "    \n",
    "# update emission matrix\n",
    "# B\n",
    "\n"
   ]
  },
  {
   "cell_type": "code",
   "execution_count": null,
   "metadata": {},
   "outputs": [],
   "source": [
    "#A (transition)\n",
    "# p_new(h_t+1=i|h_t=i`) = [∑N∑T-1 (Z-old)]/[∑i'∑N∑T-1 (Z-old)]\n",
    "\n",
    "# B (emission)\n",
    "# p_new(h_t+1=i|h_t=i`) = ∑N∑T (I[v=j] p-old(h_t=i|v) )\n",
    " \n"
   ]
  },
  {
   "cell_type": "code",
   "execution_count": null,
   "metadata": {},
   "outputs": [],
   "source": []
  },
  {
   "cell_type": "code",
   "execution_count": null,
   "metadata": {},
   "outputs": [],
   "source": []
  },
  {
   "cell_type": "code",
   "execution_count": null,
   "metadata": {},
   "outputs": [],
   "source": []
  }
 ],
 "metadata": {
  "kernelspec": {
   "display_name": "Python 3",
   "language": "python",
   "name": "python3"
  },
  "language_info": {
   "codemirror_mode": {
    "name": "ipython",
    "version": 3
   },
   "file_extension": ".py",
   "mimetype": "text/x-python",
   "name": "python",
   "nbconvert_exporter": "python",
   "pygments_lexer": "ipython3",
   "version": "3.6.4"
  }
 },
 "nbformat": 4,
 "nbformat_minor": 2
}
