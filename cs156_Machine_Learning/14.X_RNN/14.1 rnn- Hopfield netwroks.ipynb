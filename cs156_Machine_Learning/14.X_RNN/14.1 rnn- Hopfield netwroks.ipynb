{
 "cells": [
  {
   "cell_type": "markdown",
   "metadata": {},
   "source": [
    "Pre-class Work\n",
    "Implement a Hopfield Network, and perform the basic analysis below.\n",
    "\n",
    "1 . Store\n",
    "\n",
    "Implement a python function which is able to store a memory in a Hopfield network.\n",
    "\n",
    "2 . Recall\n",
    "\n",
    "Implement a python function which runs the recall algorithm for an initial (corrupted) memory. Make sure to include a stopping criteria\n",
    "\n",
    "3 . Capacity\n",
    "\n",
    "Write a function to determine the capacity for a Hopfield network of a given size. This function should have a size parameter, and then initialize an empty Hopfield network. It must then store a random memory and test whether the network is able to recall the correct memory if given a pattern corrupted by a single bit. The function must then return the largest number of memories that were stored and successfully recalled.\n",
    "\n",
    "4 . Scaling behavior\n",
    "\n",
    "Produce a plot showing capacity as a function of network size. What is the scaling behavior?\n",
    "\n",
    "5 . (Optional) Asynchronous updates\n",
    "\n",
    "Change your implementation, so that the state is updated asynchronously. Find a state that didn’t converge in your original implementation, and show that it does converge in your new implementation."
   ]
  },
  {
   "cell_type": "code",
   "execution_count": 5,
   "metadata": {},
   "outputs": [],
   "source": [
    "import pandas\n",
    "import numpy as np\n",
    "import matplotlib\n",
    "import matplotlib.pyplot as plt\n",
    "import matplotlib.gridspec as gridspec\n",
    "from mpl_toolkits.mplot3d import Axes3D\n",
    "import sklearn\n",
    "from datetime import datetime, date\n",
    "from sklearn_pandas import DataFrameMapper\n",
    "import warnings\n",
    "import timeit\n",
    "from collections import defaultdict, OrderedDict\n",
    "#import tabulate\n",
    "import time\n",
    "\n",
    "matplotlib.style.use('ggplot')\n"
   ]
  },
  {
   "cell_type": "code",
   "execution_count": 80,
   "metadata": {},
   "outputs": [],
   "source": [
    "SIZE = 5\n",
    "n_states = 3\n",
    "weights = np.random.choice([-3,5],(SIZE,SIZE))\n",
    "states = np.random.choice([-1,1],(SIZE,n_states))\n",
    "x_1 = np.random.choice([-1,1],(SIZE,1))\n"
   ]
  },
  {
   "cell_type": "code",
   "execution_count": 94,
   "metadata": {},
   "outputs": [
    {
     "data": {
      "text/plain": [
       "array([ 1,  1, -1, -1, -1])"
      ]
     },
     "execution_count": 94,
     "metadata": {},
     "output_type": "execute_result"
    }
   ],
   "source": [
    "def update_weights(weights, state):\n",
    "\n",
    "    # update weigts\n",
    "    for i,j in zip(range(SIZE-1),range(1,SIZE)):\n",
    "\n",
    "        weights[i,j] = (state[i]*state[j])\n",
    "        weights[j,i] = (state[i]*state[j])\n",
    "        #print (state[i],state[j])\n",
    "    \n",
    "    # clear diagonal  \n",
    "    np.fill_diagonal(weights, 0)\n",
    "    return (weights)\n",
    "            \n",
    "#update_weights(weights, x_1)   \n",
    "\n",
    "def activation_func(x):\n",
    "    return np.where(x > 0, 1, -1)\n",
    "\n",
    "def sync_recall (weights, state, max_rounds = 5, threshold = 0):\n",
    "    x_prev = state\n",
    "\n",
    "    for t in range(max_rounds):\n",
    "        \n",
    "        for j in range(1,SIZE):\n",
    "\n",
    "            state[j] = state[0] * weights[0][j]\n",
    "\n",
    "        x = activation_func(x_prev)\n",
    "\n",
    "        if np.all(x_prev == x):\n",
    "            return x\n",
    "        \n",
    "        x_prev = x\n",
    "    \n",
    "    return ('did not converge')\n",
    "\n",
    "####################\n",
    "SIZE = 5\n",
    "n_states = 3\n",
    "weights = np.random.choice([-3,5],(SIZE,SIZE))\n",
    "x_1 = np.array([1,1,1,1,-1])  \n",
    "\n",
    "weights = update_weights(weights, x_1) \n",
    "sync_recall(weights, x_1)"
   ]
  },
  {
   "cell_type": "code",
   "execution_count": null,
   "metadata": {},
   "outputs": [],
   "source": []
  },
  {
   "cell_type": "raw",
   "metadata": {},
   "source": [
    "t= np.zeros ((1,SIZE))\n",
    "\n",
    "def capacity(weights, state, t, L):\n",
    "    \n",
    "    if not np.diag(weights) == 0:\n",
    "        return 'diag !'\n",
    "    \n",
    "    for l in range (L):\n",
    "            \n",
    "        activations = np.dot(state,weights) # (1,size)\n",
    "        outcome = 1/(1+np.exp(-activations))# (1,size)\n",
    "        err = t-outcome\n",
    "        grad = \n",
    "        update_grad = \n",
    "        \n",
    "        \n",
    "        weights = weights + (update_grad-weights)\n",
    "    \n",
    "    return weights"
   ]
  },
  {
   "cell_type": "code",
   "execution_count": 93,
   "metadata": {},
   "outputs": [
    {
     "data": {
      "text/plain": [
       "0"
      ]
     },
     "execution_count": 93,
     "metadata": {},
     "output_type": "execute_result"
    }
   ],
   "source": [
    "def capacity(weights, SIZE= SIZE, recall_rule=sync,\n",
    "             activation_func=activation_func, \n",
    "             t_max=4):\n",
    "    \n",
    "    #weights = np.zeros((SIZE, SIZE))\n",
    "    recalls = 0\n",
    "    \n",
    "    while True:\n",
    "        memory = np.random.choice((1, -1), (SIZE, 1))\n",
    "        weights = update_weights(weights, memory)\n",
    "        \n",
    "        corrupted_memory = memory.copy()\n",
    "        corrupted_memory[np.random.randint(0, SIZE)] *= -1\n",
    "    \n",
    "        try:\n",
    "            result = recall_rule(weights, memory)\n",
    "            \n",
    "            if not np.all(result == memory):\n",
    "                break\n",
    "                \n",
    "            recalls += 1\n",
    "            \n",
    "        except ValueError:\n",
    "            break\n",
    "            \n",
    "    return recalls\n",
    "\n",
    "capacity(weights)"
   ]
  }
 ],
 "metadata": {
  "kernelspec": {
   "display_name": "Python 3",
   "language": "python",
   "name": "python3"
  },
  "language_info": {
   "codemirror_mode": {
    "name": "ipython",
    "version": 3
   },
   "file_extension": ".py",
   "mimetype": "text/x-python",
   "name": "python",
   "nbconvert_exporter": "python",
   "pygments_lexer": "ipython3",
   "version": "3.6.4"
  }
 },
 "nbformat": 4,
 "nbformat_minor": 2
}
