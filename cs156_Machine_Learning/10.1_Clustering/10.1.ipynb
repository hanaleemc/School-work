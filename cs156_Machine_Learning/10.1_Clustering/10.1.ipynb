{
 "cells": [
  {
   "cell_type": "code",
   "execution_count": 279,
   "metadata": {},
   "outputs": [],
   "source": [
    "from sklearn.neighbors.kde import KernelDensity\n",
    "import numpy as np\n",
    "import pandas as pd\n",
    "import matplotlib.pyplot as plt\n"
   ]
  },
  {
   "cell_type": "markdown",
   "metadata": {},
   "source": [
    "## 1"
   ]
  },
  {
   "cell_type": "code",
   "execution_count": 280,
   "metadata": {},
   "outputs": [],
   "source": [
    "data = pd.read_csv('data.csv', delimiter=',', header=0)\n"
   ]
  },
  {
   "cell_type": "code",
   "execution_count": 281,
   "metadata": {},
   "outputs": [
    {
     "data": {
      "text/html": [
       "<div>\n",
       "<style scoped>\n",
       "    .dataframe tbody tr th:only-of-type {\n",
       "        vertical-align: middle;\n",
       "    }\n",
       "\n",
       "    .dataframe tbody tr th {\n",
       "        vertical-align: top;\n",
       "    }\n",
       "\n",
       "    .dataframe thead th {\n",
       "        text-align: right;\n",
       "    }\n",
       "</style>\n",
       "<table border=\"1\" class=\"dataframe\">\n",
       "  <thead>\n",
       "    <tr style=\"text-align: right;\">\n",
       "      <th></th>\n",
       "      <th>Date</th>\n",
       "      <th>Amount</th>\n",
       "    </tr>\n",
       "  </thead>\n",
       "  <tbody>\n",
       "    <tr>\n",
       "      <th>0</th>\n",
       "      <td>25May2016</td>\n",
       "      <td>54241.35</td>\n",
       "    </tr>\n",
       "    <tr>\n",
       "      <th>1</th>\n",
       "      <td>29May2017</td>\n",
       "      <td>54008.83</td>\n",
       "    </tr>\n",
       "    <tr>\n",
       "      <th>2</th>\n",
       "      <td>30Jun2017</td>\n",
       "      <td>54008.82</td>\n",
       "    </tr>\n",
       "    <tr>\n",
       "      <th>3</th>\n",
       "      <td>05Jan2017</td>\n",
       "      <td>52704.37</td>\n",
       "    </tr>\n",
       "    <tr>\n",
       "      <th>4</th>\n",
       "      <td>23Feb2017</td>\n",
       "      <td>52704.36</td>\n",
       "    </tr>\n",
       "  </tbody>\n",
       "</table>\n",
       "</div>"
      ],
      "text/plain": [
       "        Date    Amount\n",
       "0  25May2016  54241.35\n",
       "1  29May2017  54008.83\n",
       "2  30Jun2017  54008.82\n",
       "3  05Jan2017  52704.37\n",
       "4  23Feb2017  52704.36"
      ]
     },
     "execution_count": 281,
     "metadata": {},
     "output_type": "execute_result"
    }
   ],
   "source": [
    "data.head()"
   ]
  },
  {
   "cell_type": "code",
   "execution_count": 282,
   "metadata": {},
   "outputs": [],
   "source": [
    "data['day'] = [i[:2] for i in data['Date']]\n",
    "\n",
    "data['year'] = [i[-4:] for i in data['Date']]\n",
    "data['month'] = [i[2:-4] for i in data['Date']]\n",
    "data['month'] = pd.to_datetime(data['month'], format='%b').dt.month\n"
   ]
  },
  {
   "cell_type": "code",
   "execution_count": 283,
   "metadata": {},
   "outputs": [
    {
     "data": {
      "text/html": [
       "<div>\n",
       "<style scoped>\n",
       "    .dataframe tbody tr th:only-of-type {\n",
       "        vertical-align: middle;\n",
       "    }\n",
       "\n",
       "    .dataframe tbody tr th {\n",
       "        vertical-align: top;\n",
       "    }\n",
       "\n",
       "    .dataframe thead th {\n",
       "        text-align: right;\n",
       "    }\n",
       "</style>\n",
       "<table border=\"1\" class=\"dataframe\">\n",
       "  <thead>\n",
       "    <tr style=\"text-align: right;\">\n",
       "      <th></th>\n",
       "      <th>Date</th>\n",
       "      <th>Amount</th>\n",
       "      <th>day</th>\n",
       "      <th>month</th>\n",
       "      <th>year</th>\n",
       "    </tr>\n",
       "  </thead>\n",
       "  <tbody>\n",
       "    <tr>\n",
       "      <th>0</th>\n",
       "      <td>25May2016</td>\n",
       "      <td>54241.35</td>\n",
       "      <td>25</td>\n",
       "      <td>5</td>\n",
       "      <td>2016</td>\n",
       "    </tr>\n",
       "    <tr>\n",
       "      <th>1</th>\n",
       "      <td>29May2017</td>\n",
       "      <td>54008.83</td>\n",
       "      <td>29</td>\n",
       "      <td>5</td>\n",
       "      <td>2017</td>\n",
       "    </tr>\n",
       "    <tr>\n",
       "      <th>2</th>\n",
       "      <td>30Jun2017</td>\n",
       "      <td>54008.82</td>\n",
       "      <td>30</td>\n",
       "      <td>6</td>\n",
       "      <td>2017</td>\n",
       "    </tr>\n",
       "    <tr>\n",
       "      <th>3</th>\n",
       "      <td>05Jan2017</td>\n",
       "      <td>52704.37</td>\n",
       "      <td>05</td>\n",
       "      <td>1</td>\n",
       "      <td>2017</td>\n",
       "    </tr>\n",
       "    <tr>\n",
       "      <th>4</th>\n",
       "      <td>23Feb2017</td>\n",
       "      <td>52704.36</td>\n",
       "      <td>23</td>\n",
       "      <td>2</td>\n",
       "      <td>2017</td>\n",
       "    </tr>\n",
       "  </tbody>\n",
       "</table>\n",
       "</div>"
      ],
      "text/plain": [
       "        Date    Amount day  month  year\n",
       "0  25May2016  54241.35  25      5  2016\n",
       "1  29May2017  54008.83  29      5  2017\n",
       "2  30Jun2017  54008.82  30      6  2017\n",
       "3  05Jan2017  52704.37  05      1  2017\n",
       "4  23Feb2017  52704.36  23      2  2017"
      ]
     },
     "execution_count": 283,
     "metadata": {},
     "output_type": "execute_result"
    }
   ],
   "source": [
    "data.head()"
   ]
  },
  {
   "cell_type": "code",
   "execution_count": 386,
   "metadata": {},
   "outputs": [],
   "source": [
    "a_ym = data.groupby(['year','month']).count()\n",
    "year_month = a_ym.iloc[:,1].values.tolist()\n",
    "\n",
    "\n",
    "a_m = data.groupby(['month']).count()\n",
    "month = a_m.iloc[:,1].values.tolist()"
   ]
  },
  {
   "cell_type": "code",
   "execution_count": 387,
   "metadata": {},
   "outputs": [],
   "source": [
    "X_ym = np.array(year_month).reshape(-1,1)\n",
    "X_m = np.array(month).reshape(-1,1)"
   ]
  },
  {
   "cell_type": "code",
   "execution_count": 316,
   "metadata": {},
   "outputs": [],
   "source": [
    "d = 1\n",
    "n = X.shape[1]\n",
    "# bw = (n * (d + 2) / 4.)**(-1. / (d + 4)) # silverman\n",
    "bw = n**(-1./(d+4)) # scott\n",
    "# bw=2"
   ]
  },
  {
   "cell_type": "code",
   "execution_count": 388,
   "metadata": {},
   "outputs": [
    {
     "data": {
      "text/plain": [
       "KernelDensity(algorithm='auto', atol=0, bandwidth=4, breadth_first=True,\n",
       "       kernel='gaussian', leaf_size=40, metric='euclidean',\n",
       "       metric_params=None, rtol=0)"
      ]
     },
     "execution_count": 388,
     "metadata": {},
     "output_type": "execute_result"
    }
   ],
   "source": [
    "kde = KernelDensity(kernel='gaussian', bandwidth=4)\n",
    "kde.fit(X)"
   ]
  },
  {
   "cell_type": "code",
   "execution_count": null,
   "metadata": {},
   "outputs": [],
   "source": []
  },
  {
   "cell_type": "code",
   "execution_count": 389,
   "metadata": {},
   "outputs": [],
   "source": [
    "X_plot = np.linspace(0, 110, 1000)[:, np.newaxis]\n",
    "log_dens = kde.score_samples(X_plot)"
   ]
  },
  {
   "cell_type": "code",
   "execution_count": 390,
   "metadata": {},
   "outputs": [
    {
     "data": {
      "text/plain": [
       "Text(0.5,1,'Gaussian Kernel Density')"
      ]
     },
     "execution_count": 390,
     "metadata": {},
     "output_type": "execute_result"
    },
    {
     "data": {
      "image/png": "[encoded data removed]",
      "text/plain": [
       "<Figure size 432x288 with 1 Axes>"
      ]
     },
     "metadata": {},
     "output_type": "display_data"
    }
   ],
   "source": [
    "plt.fill(X_plot[:, 0], np.exp(log_dens), fc='#AAAAFF')\n",
    "plt.title(\"Gaussian Kernel Density\")\n"
   ]
  },
  {
   "cell_type": "code",
   "execution_count": 320,
   "metadata": {},
   "outputs": [
    {
     "data": {
      "text/plain": [
       "[array([[60.21770693]]),\n",
       " array([[60.38003633]]),\n",
       " array([[46.6051897]]),\n",
       " array([[7.30015169]]),\n",
       " array([[7.91930361]]),\n",
       " array([[77.71102316]]),\n",
       " array([[45.21794249]]),\n",
       " array([[35.43967845]]),\n",
       " array([[30.89905318]]),\n",
       " array([[43.04583744]])]"
      ]
     },
     "execution_count": 320,
     "metadata": {},
     "output_type": "execute_result"
    }
   ],
   "source": [
    "raw_samples = [kde.sample()for i in range(10)]\n",
    "raw_samples"
   ]
  },
  {
   "cell_type": "markdown",
   "metadata": {},
   "source": [
    "## 2"
   ]
  },
  {
   "cell_type": "code",
   "execution_count": 368,
   "metadata": {},
   "outputs": [
    {
     "name": "stdout",
     "output_type": "stream",
     "text": [
      "[[6.97033681e-01 5.76690809e-03 3.32568875e-04 2.96866842e-01]\n",
      " [1.13060910e-02 8.73976858e-01 1.08899680e-01 5.81737092e-03]\n",
      " [4.13126497e-01 2.27056426e-04 4.63468728e-03 5.82011759e-01]\n",
      " ...\n",
      " [8.45915196e-01 3.57434462e-03 3.77057660e-04 1.50133402e-01]\n",
      " [6.51247847e-03 2.52651677e-01 7.38811615e-01 2.02422933e-03]\n",
      " [8.89217613e-05 9.99737412e-01 1.73472156e-04 1.94071590e-07]]\n"
     ]
    }
   ],
   "source": [
    "true_p_cluster = [0.4, 0.3, 0.15, 0.15]\n",
    "\n",
    "n_questions = 20\n",
    "n_people = 1000\n",
    "n_clusters = len(true_p_cluster)\n",
    "\n",
    "true_biases = np.random.beta(0.75, 0.75, size=(n_questions, n_clusters))\n",
    "true_people = np.random.choice(range(n_clusters), size=n_people, p=true_p_cluster)\n",
    "\n",
    "answers = np.zeros((n_people, n_questions), dtype=bool)\n",
    "\n",
    "for a in range(n_people):\n",
    "    cluster = true_people[a]\n",
    "    answers[a, :] = np.random.rand(n_questions) < true_biases[:, cluster]\n",
    "\n",
    "print(people)\n",
    "\n",
    "np.savetxt(\"questionnaire.csv\", answers, delimiter=\",\", fmt=\"%d\")\n",
    "np.savetxt(\"questionnaire_answers.csv\", true_people, delimiter=\",\", fmt=\"%d\")\n",
    "np.savetxt(\"questionnaire_biases.csv\", true_biases, delimiter=\",\", fmt=\"%.3f\")"
   ]
  },
  {
   "cell_type": "code",
   "execution_count": 369,
   "metadata": {},
   "outputs": [
    {
     "name": "stdout",
     "output_type": "stream",
     "text": [
      "[0.38750783 0.32061861 0.14881973 0.14305383]\n",
      "[0.4, 0.3, 0.15, 0.15]\n"
     ]
    }
   ],
   "source": [
    "# v - answer\n",
    "# h - cluster/ assignment\n",
    "\n",
    "\n",
    "answers = np.loadtxt(\"questionnaire.csv\", delimiter=\",\") # binary matrix of 1000ppl*20qtestions \n",
    "n_people, n_questions = answers.shape \n",
    "n_clusters = 4\n",
    "\n",
    "p_clusters = np.asarray([0.25, 0.25, 0.25, 0.25]) # vector of 1*4\n",
    "biases = np.random.beta(0.75, 0.75, size=(n_questions, n_clusters)) # matrix of 20 by 4.\n",
    "\n",
    "\n",
    "def expectation(answers, biases, p_clusters, people):\n",
    "    # In this function we create our expectations.\n",
    "\n",
    "    # This is probably not the correct answer!\n",
    "    people = np.zeros((n_people, n_clusters))\n",
    "    \n",
    "    for person in range(n_people):\n",
    "        person_answers = answers[person]\n",
    "        \n",
    "        for cluster in range(n_clusters):\n",
    "            \n",
    "            p_cluster_given_answer =  1 # multiply all probabilities for each questions \n",
    "            p_cluster_given_answer =  p_clusters[cluster] #prior\n",
    "            \n",
    "            for question_i, answer in enumerate(person_answers):\n",
    "                \n",
    "                # join probability of cluster given observed answers\n",
    "                p_cluster_given_answer *= ( answer*biases[question_i, cluster] + (1-answer)*(1- biases[question_i, cluster]))\n",
    "            \n",
    "            \n",
    "            people[person, cluster] = p_cluster_given_answer\n",
    "            \n",
    "        \n",
    "    # normalize the distributions\n",
    "    people = people / people.sum(axis=1, keepdims=1)\n",
    "    \n",
    "    return people\n",
    "\n",
    "\n",
    "def maximization(answers, people, p_clusters, biases):\n",
    "    # Treating all the data as visible, now infer the parameters for the model.\n",
    "    \n",
    "    # maximizing the p_of_answers_given_cluster\n",
    "    for question in range(n_questions):\n",
    "        for cluster in range(n_clusters):\n",
    "            \n",
    "            weighted_num = 0\n",
    "            weighted_denum = 0\n",
    "        \n",
    "            for person in range(n_people):\n",
    "            \n",
    "                weighted_num +=  people[person, cluster] * answers[person, question] # bias*answer (will add only the ones)\n",
    "                weighted_denum +=  people[person, cluster] # bias(will add both zeros and ones)\n",
    "            \n",
    "            p_of_answers_given_cluster = weighted_num/float(weighted_denum)\n",
    "            biases[question, cluster] = p_of_answers_given_cluster\n",
    "            \n",
    "    # maximizing the priors       \n",
    "    \n",
    "    per_cluster_sum = np.zeros(4)\n",
    "    \n",
    "    for cluster in range(n_clusters):\n",
    "        for person in range(n_people):\n",
    "            \n",
    "             per_cluster_sum[cluster] += people[person, cluster]\n",
    "            \n",
    "    total_sum = np.sum(per_cluster_sum)\n",
    "    \n",
    "    p_clusters = per_cluster_sum/total_sum \n",
    "    \n",
    "    return biases, p_clusters\n",
    "\n",
    "\n",
    "for step in range(10):\n",
    "    people = expectation(answers, biases, p_clusters, people)\n",
    "    biases, p_clusters = maximization(answers, people, p_clusters, biases)\n",
    "\n",
    "# print(biases)\n",
    "# print (true_biases)\n",
    "print (p_clusters)\n",
    "print (true_p_cluster)\n",
    "# print(people)\n",
    "\n",
    "# np.sum(people, axis=1)"
   ]
  },
  {
   "cell_type": "code",
   "execution_count": 376,
   "metadata": {},
   "outputs": [
    {
     "data": {
      "text/plain": [
       "(array([False,  True]), array([976,  24]))"
      ]
     },
     "execution_count": 376,
     "metadata": {},
     "output_type": "execute_result"
    }
   ],
   "source": [
    "gap = np.abs (np.array(true_p_cluster)[true_people] - p_clusters[np.argmax(people, axis =1)])\n",
    "np.unique(gap>0.05, return_counts=True)"
   ]
  },
  {
   "cell_type": "code",
   "execution_count": null,
   "metadata": {},
   "outputs": [],
   "source": []
  }
 ],
 "metadata": {
  "kernelspec": {
   "display_name": "Python 3",
   "language": "python",
   "name": "python3"
  },
  "language_info": {
   "codemirror_mode": {
    "name": "ipython",
    "version": 3
   },
   "file_extension": ".py",
   "mimetype": "text/x-python",
   "name": "python",
   "nbconvert_exporter": "python",
   "pygments_lexer": "ipython3",
   "version": "3.6.4"
  }
 },
 "nbformat": 4,
 "nbformat_minor": 2
}
