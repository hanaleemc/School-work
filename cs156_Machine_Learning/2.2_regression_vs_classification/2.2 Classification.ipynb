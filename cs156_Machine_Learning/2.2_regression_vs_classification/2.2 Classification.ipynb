{
 "cells": [
  {
   "cell_type": "code",
   "execution_count": 40,
   "metadata": {
    "collapsed": false
   },
   "outputs": [],
   "source": [
    "import numpy as np\n",
    "from sklearn import preprocessing\n",
    "import pandas\n",
    "\n",
    "from sklearn.model_selection import train_test_split\n",
    "from sklearn.cross_validation import cross_val_score\n",
    "from sklearn.svm import LinearSVC\n",
    "from sklearn.metrics import classification_report\n",
    "from sklearn.cross_validation import KFold\n",
    "from sklearn.feature_selection import f_classif, SelectKBest\n",
    "from sklearn.pipeline import Pipeline\n",
    "from sklearn.ensemble import RandomForestClassifier\n",
    "from sklearn import linear_model\n",
    "from sklearn import metrics\n",
    "\n",
    "\n",
    "from sklearn_pandas import DataFrameMapper\n",
    "from sklearn.metrics import accuracy_score, roc_curve, roc_auc_score, precision_score"
   ]
  },
  {
   "cell_type": "code",
   "execution_count": 20,
   "metadata": {
    "collapsed": false
   },
   "outputs": [
    {
     "data": {
      "text/html": [
       "<div>\n",
       "<table border=\"1\" class=\"dataframe\">\n",
       "  <thead>\n",
       "    <tr style=\"text-align: right;\">\n",
       "      <th></th>\n",
       "      <th>casualty_class_driver</th>\n",
       "      <th>casualty_class_passenger</th>\n",
       "      <th>casualty_class_pedestrian</th>\n",
       "      <th>gender</th>\n",
       "      <th>age</th>\n",
       "      <th>travel_bicycle</th>\n",
       "      <th>travel_bus</th>\n",
       "      <th>travel_car</th>\n",
       "      <th>travel_motorbike</th>\n",
       "      <th>travel_other</th>\n",
       "      <th>travel_pedestrian</th>\n",
       "      <th>travel_taxi</th>\n",
       "      <th>year</th>\n",
       "    </tr>\n",
       "  </thead>\n",
       "  <tbody>\n",
       "    <tr>\n",
       "      <th>0</th>\n",
       "      <td>0.0</td>\n",
       "      <td>1.0</td>\n",
       "      <td>0.0</td>\n",
       "      <td>0.0</td>\n",
       "      <td>-0.136637</td>\n",
       "      <td>0.0</td>\n",
       "      <td>0.0</td>\n",
       "      <td>0.0</td>\n",
       "      <td>1.0</td>\n",
       "      <td>0.0</td>\n",
       "      <td>0.0</td>\n",
       "      <td>0.0</td>\n",
       "      <td>-0.86088</td>\n",
       "    </tr>\n",
       "    <tr>\n",
       "      <th>1</th>\n",
       "      <td>0.0</td>\n",
       "      <td>1.0</td>\n",
       "      <td>0.0</td>\n",
       "      <td>0.0</td>\n",
       "      <td>-0.920083</td>\n",
       "      <td>0.0</td>\n",
       "      <td>0.0</td>\n",
       "      <td>1.0</td>\n",
       "      <td>0.0</td>\n",
       "      <td>0.0</td>\n",
       "      <td>0.0</td>\n",
       "      <td>0.0</td>\n",
       "      <td>-1.54706</td>\n",
       "    </tr>\n",
       "    <tr>\n",
       "      <th>2</th>\n",
       "      <td>0.0</td>\n",
       "      <td>1.0</td>\n",
       "      <td>0.0</td>\n",
       "      <td>1.0</td>\n",
       "      <td>1.008400</td>\n",
       "      <td>0.0</td>\n",
       "      <td>0.0</td>\n",
       "      <td>1.0</td>\n",
       "      <td>0.0</td>\n",
       "      <td>0.0</td>\n",
       "      <td>0.0</td>\n",
       "      <td>0.0</td>\n",
       "      <td>-1.20397</td>\n",
       "    </tr>\n",
       "    <tr>\n",
       "      <th>3</th>\n",
       "      <td>0.0</td>\n",
       "      <td>1.0</td>\n",
       "      <td>0.0</td>\n",
       "      <td>0.0</td>\n",
       "      <td>-1.100879</td>\n",
       "      <td>0.0</td>\n",
       "      <td>0.0</td>\n",
       "      <td>0.0</td>\n",
       "      <td>0.0</td>\n",
       "      <td>0.0</td>\n",
       "      <td>1.0</td>\n",
       "      <td>0.0</td>\n",
       "      <td>0.85457</td>\n",
       "    </tr>\n",
       "    <tr>\n",
       "      <th>4</th>\n",
       "      <td>0.0</td>\n",
       "      <td>1.0</td>\n",
       "      <td>0.0</td>\n",
       "      <td>0.0</td>\n",
       "      <td>-0.920083</td>\n",
       "      <td>0.0</td>\n",
       "      <td>0.0</td>\n",
       "      <td>0.0</td>\n",
       "      <td>1.0</td>\n",
       "      <td>0.0</td>\n",
       "      <td>0.0</td>\n",
       "      <td>0.0</td>\n",
       "      <td>0.16839</td>\n",
       "    </tr>\n",
       "  </tbody>\n",
       "</table>\n",
       "</div>"
      ],
      "text/plain": [
       "   casualty_class_driver  casualty_class_passenger  casualty_class_pedestrian  \\\n",
       "0                    0.0                       1.0                        0.0   \n",
       "1                    0.0                       1.0                        0.0   \n",
       "2                    0.0                       1.0                        0.0   \n",
       "3                    0.0                       1.0                        0.0   \n",
       "4                    0.0                       1.0                        0.0   \n",
       "\n",
       "   gender       age  travel_bicycle  travel_bus  travel_car  travel_motorbike  \\\n",
       "0     0.0 -0.136637             0.0         0.0         0.0               1.0   \n",
       "1     0.0 -0.920083             0.0         0.0         1.0               0.0   \n",
       "2     1.0  1.008400             0.0         0.0         1.0               0.0   \n",
       "3     0.0 -1.100879             0.0         0.0         0.0               0.0   \n",
       "4     0.0 -0.920083             0.0         0.0         0.0               1.0   \n",
       "\n",
       "   travel_other  travel_pedestrian  travel_taxi     year  \n",
       "0           0.0                0.0          0.0 -0.86088  \n",
       "1           0.0                0.0          0.0 -1.54706  \n",
       "2           0.0                0.0          0.0 -1.20397  \n",
       "3           0.0                1.0          0.0  0.85457  \n",
       "4           0.0                0.0          0.0  0.16839  "
      ]
     },
     "execution_count": 20,
     "metadata": {},
     "output_type": "execute_result"
    }
   ],
   "source": [
    "#imports data and deletes unknown\n",
    "\n",
    "CA_data_all = pandas.read_csv('casualty_train.csv')\n",
    "\n",
    "CA_data = CA_data_all.loc[CA_data_all.age != 'Unknown']\n",
    "CA_data.loc[np.logical_not(CA_data.pedestrian_location == CA_data.pedestrian_location), 'pedestrian_location'] = ''\n",
    "CA_data.loc[np.logical_not(CA_data.pedestrian_movement == CA_data.pedestrian_movement), 'pedestrian_movement'] = ''\n",
    "CA_data.severe = CA_data.severe.astype('int')\n",
    "\n",
    "\n",
    "encode_data = DataFrameMapper([\n",
    "    ('casualty_class', preprocessing.LabelBinarizer()),\n",
    "    ('gender', preprocessing.LabelBinarizer()),\n",
    "    (['age'], preprocessing.StandardScaler()),\n",
    "    ('travel', preprocessing.LabelBinarizer()),\n",
    "#     ('pedestrian_location', preprocessing.LabelBinarizer()),\n",
    "#      ('pedestrian_movement', preprocessing.LabelBinarizer()),   \n",
    "    (['year'], preprocessing.StandardScaler()),\n",
    "        \n",
    "], df_out= True)\n",
    "\n",
    "X_headers = ['casualty_class','gender','age','pedestrian_location','pedestrian_movement','travel','year']\n",
    "Y_CA = np.array(CA_data.loc[:,'severe'], dtype=int)\n",
    "\n",
    "X_CA_pre_encode = CA_data.loc[:,X_headers]\n",
    "X_CA = encode_data.fit_transform(X_CA_pre_encode)\n",
    "X_CA.head()"
   ]
  },
  {
   "cell_type": "code",
   "execution_count": 21,
   "metadata": {
    "collapsed": false
   },
   "outputs": [],
   "source": [
    "(x_train, x_test, y_train, y_test) = train_test_split(X_CA, Y_CA, test_size=0.1, random_state=5, stratify=CA_data.casualty_class)\n"
   ]
  },
  {
   "cell_type": "code",
   "execution_count": 39,
   "metadata": {
    "collapsed": false
   },
   "outputs": [
    {
     "name": "stdout",
     "output_type": "stream",
     "text": [
      "[LibLinear][LibLinear][LibLinear][LibLinear][LibLinear][LibLinear][LibLinear][LibLinear][LibLinear][LibLinear][LibLinear][LibLinear][LibLinear][LibLinear][LibLinear][LibLinear][LibLinear][LibLinear][LibLinear][LibLinear][LibLinear][LibLinear][LibLinear][LibLinear][LibLinear][LibLinear][LibLinear][LibLinear][LibLinear][LibLinear][LibLinear][LibLinear][LibLinear][LibLinear][LibLinear][LibLinear][LibLinear][LibLinear][LibLinear][LibLinear][LibLinear][LibLinear][LibLinear][LibLinear][LibLinear][LibLinear][LibLinear][LibLinear][LibLinear][LibLinear][LibLinear][LibLinear]11\n",
      "0.267846961644\n"
     ]
    }
   ],
   "source": [
    "\n",
    "svc = LinearSVC(class_weight='balanced', verbose=True)\n",
    "logistic = linear_model.LogisticRegression() \n",
    "\n",
    "pipeline1 = Pipeline([('select', SelectKBest(f_classif)),\n",
    "                       (\"svc\", svc)])\n",
    "\n",
    "scores = []\n",
    "\n",
    "for K in range(1,14):\n",
    "    \n",
    "#     print pipeline1.get_params()\n",
    "    pipeline1.set_params(select__k=K)\n",
    "    pipeline1.fit(x_train, y_train)\n",
    "    \n",
    "\n",
    "    # Evaluate the models using crossvalidation\n",
    "    scores.append(np.mean(cross_val_score(pipeline1, x_test, y_test, scoring=\"f1\", cv=3)))\n",
    "    \n",
    "print np.argmax(scores)\n",
    "print np.max(scores)\n"
   ]
  },
  {
   "cell_type": "code",
   "execution_count": 42,
   "metadata": {
    "collapsed": false
   },
   "outputs": [
    {
     "name": "stdout",
     "output_type": "stream",
     "text": [
      "             precision    recall  f1-score   support\n",
      "\n",
      "          0       0.94      0.60      0.73     19336\n",
      "          1       0.17      0.67      0.27      2325\n",
      "\n",
      "avg / total       0.85      0.61      0.68     21661\n",
      "\n",
      "\n",
      "0.607682009141\n",
      "\n",
      "0.633438924998\n"
     ]
    }
   ],
   "source": [
    "y_pred = pipeline1.predict(x_test)\n",
    "\n",
    "print classification_report(y_test, y_pred)\n",
    "print\n",
    "print accuracy_score(y_test, y_pred)\n",
    "print\n",
    "print roc_auc_score(y_test, y_pred)"
   ]
  },
  {
   "cell_type": "code",
   "execution_count": null,
   "metadata": {
    "collapsed": true
   },
   "outputs": [],
   "source": []
  }
 ],
 "metadata": {
  "anaconda-cloud": {},
  "kernelspec": {
   "display_name": "Python [conda root]",
   "language": "python",
   "name": "conda-root-py"
  },
  "language_info": {
   "codemirror_mode": {
    "name": "ipython",
    "version": 2
   },
   "file_extension": ".py",
   "mimetype": "text/x-python",
   "name": "python",
   "nbconvert_exporter": "python",
   "pygments_lexer": "ipython2",
   "version": "2.7.12"
  }
 },
 "nbformat": 4,
 "nbformat_minor": 1
}
