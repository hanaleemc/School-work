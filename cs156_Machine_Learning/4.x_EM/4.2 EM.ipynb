{
 "cells": [
  {
   "cell_type": "code",
   "execution_count": 40,
   "metadata": {
    "collapsed": true
   },
   "outputs": [],
   "source": [
    "from scipy.misc import comb\n",
    "import numpy as np"
   ]
  },
  {
   "cell_type": "code",
   "execution_count": 173,
   "metadata": {
    "collapsed": false
   },
   "outputs": [],
   "source": [
    "\n",
    "def e(theta, throws, heads):\n",
    "    # Evaluate p(Z|X, θold) to estimate q(Z|X)\n",
    "    \n",
    "    # p(X, Z|θ) =  p(Z|X, θ) * p(X|θ) \n",
    "    # p(Z|X, θ) =  p(X, Z|θ) / p(X|θ) \n",
    "    \n",
    "    q = [] \n",
    "    probs = []\n",
    "    likelihood = []\n",
    "    \n",
    "    #for each trial \n",
    "    for n, k in zip(throws, heads):\n",
    "        \n",
    "        #  p^k (1-p)^(n-k) // bionomial p(x|\\theta)\n",
    "#         nCk = comb(n, k)\n",
    "        likelihood = [ 1 * (p ** k) * ((1 - p) ** (n - k)) for p in theta]\n",
    "        # normaization    \n",
    "        total = sum(likelihood)                \n",
    "        norm_probs = [ i / total for i in likelihood ]  \n",
    "        \n",
    "        q.append(norm_probs) # 2 probabiltiies * number of throws\n",
    "        \n",
    "    return q\n",
    "\n"
   ]
  },
  {
   "cell_type": "code",
   "execution_count": 174,
   "metadata": {
    "collapsed": false
   },
   "outputs": [],
   "source": [
    "def m (q, throws, heads):\n",
    "    \n",
    "    head = []\n",
    "    tail = []\n",
    "    \n",
    "    for p, wins, total in zip(q, heads, throws):\n",
    "        #heads\n",
    "        head.append([p1*wins for p1 in p])\n",
    "        #tails\n",
    "        tail.append([p1*(total-wins) for p1 in p])\n",
    "      \n",
    "        \n",
    "    weighted_heads = np.sum(head, axis = 0)\n",
    "    weighted_tails = np.sum(tail, axis = 0)\n",
    "    \n",
    "    coin_a = weighted_heads[0]/(weighted_heads[0]+weighted_tails[0])\n",
    "    coin_b = weighted_heads[1]/(weighted_heads[1]+weighted_tails[1])\n",
    "\n",
    "    return  coin_a, coin_b  \n",
    "        \n",
    "# r = e([.6,.5],[10,10,10,10,10,10],[5,1,2,6,6,3])\n",
    "\n",
    "\n",
    "# m(r,[10,10,10,10,10,10],[5,1,2,6,6,3])\n",
    "        "
   ]
  },
  {
   "cell_type": "code",
   "execution_count": 175,
   "metadata": {
    "collapsed": false
   },
   "outputs": [],
   "source": [
    "def em(theta, throws, heads):\n",
    "    \n",
    "    old_theta = theta\n",
    "    \n",
    "    for i in range(10):\n",
    "\n",
    "        e_step = e(old_theta, throws, heads)\n",
    "        m_step = m(e_step, throws, heads)\n",
    "        \n",
    "\n",
    "        if abs(old_theta[0] - m_step[0]) < 0.0001:\n",
    "            \n",
    "            print r\"initial $\\theta$ : {}\".format(theta)\n",
    "            print \"EM converged after {} iterations\".format(i)\n",
    "            print\n",
    "            print \"the maximum probabilities are \\ncoin a: {}\\ncoin b: {}\".format(*m_step)\n",
    "            break\n",
    "        \n",
    "        old_theta = m_step\n",
    "    \n",
    "        \n",
    "    "
   ]
  },
  {
   "cell_type": "code",
   "execution_count": 178,
   "metadata": {
    "collapsed": false
   },
   "outputs": [],
   "source": [
    "\n",
    "throws = [41, 43, 23, 23, 1, 23, 36, 37, 2, 131, 5, 29, 13, 47, 10, 58, 15, 14, 100, 113]\n",
    "heads = [14, 33, 19, 10, 0, 17, 24, 17, 1, 36, 5, 6, 5, 13, 4, 35, 5, 5, 74, 34]\n",
    "\n",
    "initial_p1 = 0.11\n",
    "initial_p2 = 0.89\n"
   ]
  },
  {
   "cell_type": "code",
   "execution_count": 179,
   "metadata": {
    "collapsed": false
   },
   "outputs": [
    {
     "name": "stdout",
     "output_type": "stream",
     "text": [
      "initial $\\theta$ : [0.11, 0.89]\n",
      "EM converged after 3 iterations\n",
      "\n",
      "the maximum probabilities are \n",
      "coin a: 0.314117093794\n",
      "coin b: 0.712541992936\n"
     ]
    }
   ],
   "source": [
    "em([initial_p1, initial_p2], throws, heads)"
   ]
  },
  {
   "cell_type": "code",
   "execution_count": null,
   "metadata": {
    "collapsed": true
   },
   "outputs": [],
   "source": []
  }
 ],
 "metadata": {
  "anaconda-cloud": {},
  "kernelspec": {
   "display_name": "Python [conda root]",
   "language": "python",
   "name": "conda-root-py"
  },
  "language_info": {
   "codemirror_mode": {
    "name": "ipython",
    "version": 2
   },
   "file_extension": ".py",
   "mimetype": "text/x-python",
   "name": "python",
   "nbconvert_exporter": "python",
   "pygments_lexer": "ipython2",
   "version": "2.7.12"
  }
 },
 "nbformat": 4,
 "nbformat_minor": 1
}
