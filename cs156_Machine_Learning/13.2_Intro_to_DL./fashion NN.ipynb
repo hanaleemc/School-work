{
 "cells": [
  {
   "cell_type": "code",
   "execution_count": 38,
   "metadata": {},
   "outputs": [],
   "source": [
    "from sklearn import decomposition\n",
    "from sklearn.discriminant_analysis import LinearDiscriminantAnalysis as LDA\n",
    "from PIL import Image\n",
    "import numpy as np\n",
    "from glob import glob\n",
    "from sklearn.model_selection import train_test_split\n",
    "import matplotlib.pyplot as plt\n",
    "from mpl_toolkits.axes_grid1 import ImageGrid\n",
    "from sklearn.metrics import classification_report\n",
    "\n",
    "from keras.applications.vgg16 import VGG16\n",
    "from keras.preprocessing import image\n",
    "from keras import Sequential\n",
    "from keras.applications.vgg16 import preprocess_input\n",
    "import h5py as h5py\n",
    "from keras.models import Model\n",
    "from keras.layers import Activation, Flatten, Dense, GlobalAveragePooling2D"
   ]
  },
  {
   "cell_type": "code",
   "execution_count": 2,
   "metadata": {},
   "outputs": [],
   "source": [
    "N = 150\n",
    "w,h = 200, 200\n",
    "size = (w, h, 3)\n",
    "female = glob('females/*')\n",
    "male = glob('males/*')\n",
    "\n",
    "\n",
    "female_list = np.random.choice(female, N, replace=False)\n",
    "male_list = np.random.choice(male, N, replace=False)"
   ]
  },
  {
   "cell_type": "code",
   "execution_count": 3,
   "metadata": {},
   "outputs": [],
   "source": [
    "def pic_preprocess (image_file, width, height):\n",
    "    \n",
    "    img = Image.open(image_file)\n",
    "    post = img.resize((width, height), Image.NEAREST)\n",
    "    \n",
    "    pix = np.array(post)\n",
    "    return pix.flatten()\n",
    "#     return post.getcolors(height*width)\n",
    "\n",
    "\n"
   ]
  },
  {
   "cell_type": "code",
   "execution_count": 4,
   "metadata": {},
   "outputs": [],
   "source": [
    "raw_data = [(pic_preprocess(f, w, h), 0) for f in female_list] + [(pic_preprocess(m, w, h),1) for m in male_list]\n",
    "\n",
    "\n",
    "labels = np.array([datapoint[1] for datapoint in raw_data])\n",
    "data = np.array([datapoint[0] for datapoint in raw_data])\n",
    "norm_data = np.array([datapoint[0] - np.mean(datapoint[0]) for datapoint in raw_data])"
   ]
  },
  {
   "cell_type": "code",
   "execution_count": 14,
   "metadata": {},
   "outputs": [],
   "source": [
    "model = VGG16(weights='imagenet', include_top=False)\n",
    "\n",
    "preds = []\n",
    "for pic in female[0:20]:\n",
    "    img_path = pic\n",
    "    img = image.load_img(img_path, target_size=(224, 224))\n",
    "\n",
    "    x = image.img_to_array(img)\n",
    "    x = np.expand_dims(x, axis=0)\n",
    "    x = preprocess_input(x)\n",
    "\n",
    "    features = model.predict(x)\n",
    "    preds.append(features)"
   ]
  },
  {
   "cell_type": "code",
   "execution_count": 40,
   "metadata": {},
   "outputs": [],
   "source": [
    "base_model = VGG16(weights='imagenet', include_top=False, input_shape=(256,256,3))\n",
    "\n",
    "# add a global spatial average pooling layer\n",
    "x = base_model.output\n",
    "# let's add a fully-connected layer\n",
    "x = Dense(1024, activation='relu')(x)\n",
    "# and a logistic layer \n",
    "top_model = Dense(1, activation='sigmoid')(x)\n",
    "\n",
    "model = Model(inputs=base_model.input, outputs=top_model)"
   ]
  },
  {
   "cell_type": "code",
   "execution_count": null,
   "metadata": {},
   "outputs": [],
   "source": []
  }
 ],
 "metadata": {
  "kernelspec": {
   "display_name": "Python 3",
   "language": "python",
   "name": "python3"
  },
  "language_info": {
   "codemirror_mode": {
    "name": "ipython",
    "version": 3
   },
   "file_extension": ".py",
   "mimetype": "text/x-python",
   "name": "python",
   "nbconvert_exporter": "python",
   "pygments_lexer": "ipython3",
   "version": "3.6.4"
  }
 },
 "nbformat": 4,
 "nbformat_minor": 2
}
